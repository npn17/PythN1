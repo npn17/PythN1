{
 "cells": [
  {
   "cell_type": "markdown",
   "id": "0ab1a5db",
   "metadata": {},
   "source": [
    "# **Python3**\n",
    "## *Première approche*"
   ]
  },
  {
   "cell_type": "markdown",
   "id": "dfe6405c",
   "metadata": {},
   "source": [
    "### Calculer une somme"
   ]
  },
  {
   "cell_type": "code",
   "execution_count": 1,
   "id": "84ea21e9",
   "metadata": {},
   "outputs": [
    {
     "data": {
      "text/plain": [
       "2"
      ]
     },
     "execution_count": 1,
     "metadata": {},
     "output_type": "execute_result"
    }
   ],
   "source": [
    "1+1"
   ]
  }
 ],
 "metadata": {
  "kernelspec": {
   "display_name": "Python 3 (ipykernel)",
   "language": "python",
   "name": "python3"
  },
  "language_info": {
   "codemirror_mode": {
    "name": "ipython",
    "version": 3
   },
   "file_extension": ".py",
   "mimetype": "text/x-python",
   "name": "python",
   "nbconvert_exporter": "python",
   "pygments_lexer": "ipython3",
   "version": "3.10.6"
  }
 },
 "nbformat": 4,
 "nbformat_minor": 5
}
